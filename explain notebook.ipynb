{
 "cells": [
  {
   "cell_type": "markdown",
   "id": "da32a134-bb82-4363-a395-20253b2a5fae",
   "metadata": {},
   "source": [
    "### 1. Motivation\n",
    "#### What is your dataset?\n",
    "We used three datasets related to Austin Animal Center:\n",
    "- Austin_Animal_Center_Intakes_20250419.csv: records of animals entering the shelter, including intake dates and animal types.\n",
    "- Austin_Animal_Center_Outcomes_20250419.csv: outcome records of animals leaving the shelter (e.g., adoption, euthanasia).\n",
    "- shelter_geocoded_locations.csv: a manually geocoded dataset that maps official shelter addresses in Austin to their corresponding latitude and longitude coordinates, based on data from the Austin Animal Center's official shelter list.\n",
    "- neighbour.json: downloaded from https://data.austintexas.gov/.\n",
    "\n",
    "#### Why did you choose this/these particular dataset(s)?\n",
    "The intake dataset offers a rich, time-stamped record of real-world animal shelter operations. With the help of manually geocoded shelter addresses, we were able to conduct meaningful spatial analysis. This multi-angle approach allows for an accessible and engaging visual story.\n",
    "\n",
    "#### What was your goal for the end user's experience?\n",
    "We want users to understand the patterns behind stray animal intake: when animals enter shelters most frequently, and which shelter regions are under more pressure. The visualizations should guide users from temporal overview to regional insights."
   ]
  },
  {
   "cell_type": "markdown",
   "id": "8a85fb19-e337-47da-8844-a09367967daa",
   "metadata": {},
   "source": [
    "### 2. Basic stats\n",
    "#### Data Cleaning & Preprocessing Steps\n",
    "- Merged intake & outcome tables: According to Animal ID.Keeping duplicates for repeat visits.\n",
    "- Date parsing: Converted intake_datetime to proper datetime format.\n",
    "- Shelter matching: Linked each record to a shelter location based on the shelter_name or address field.\n",
    "- Geolocation: Used shelter_geocoded_locations.csv to attach coordinates to each shelter site.\n",
    "- Neighborhood mapping: Mapped coordinates to official Austin neighborhood polygons using spatial joins.\n",
    "- Time aggregation: Grouped intake counts by month and by shelter region.\n",
    "- Outliers: Removed records with missing animal type or unmatchable shelter data.\n",
    "\n",
    "#### Dataset Statistics\n",
    "- Intakes dataset rows: 126,234\n",
    "- Outcomes dataset rows: 124,513\n",
    "- Unique animal types: 5 (Dogs, Cats, Birds, Others, Small Mammals)\n",
    "- Mapped shelter coordinates: Successfully matched to all listed shelters\n",
    "- Time span: October 2013 to April 2025\n",
    "- Number of mapped shelters: 12"
   ]
  },
  {
   "cell_type": "markdown",
   "id": "3b4751e9-260b-4445-8819-f05f0da26df6",
   "metadata": {},
   "source": [
    "### 3. Data Analysis"
   ]
  },
  {
   "cell_type": "markdown",
   "id": "975f7071-f600-47a1-a4af-27239609719d",
   "metadata": {},
   "source": [
    "### 4. Genre\n",
    "#### Which genre of data story did you use?\n",
    "We used a Martini Glass narrative structure: The stem is a focused, linear presentation (time series → heatmap animation),followed by an open exploration body (static choropleth map for spatial analysis and comparison).\n",
    "\n",
    "#### Visual Narrative tools used\n",
    "- Graphical highlighting (e.g., saturation of heatmap points over time)\n",
    "- Progressive reveal (the animated heatmap adds time dimension interactively)\n",
    "- Visual grouping (e.g., color mapping in the choropleth for comparing regions)\n",
    "\n",
    "#### Narrative Structure tools used\n",
    "- Author-driven sequence at the start (clear framing of the problem through time trend)\n",
    "- Reader-driven interaction in choropleth map and animation slider\n",
    "- Multi-messaging via annotation blocks and map legends"
   ]
  },
  {
   "cell_type": "markdown",
   "id": "b0bd7ee9-6b16-4959-b980-e9f821ec6015",
   "metadata": {},
   "source": [
    "###  5. Visualizations\n",
    "We created three key visualizations to support our story:\n",
    "- Monthly Intake Time Series\n",
    "→ Highlights long-term trends and seasonal fluctuations\n",
    "- Animated Heatmap of Found Locations\n",
    "→ Shows how animal sightings spread and shift over time\n",
    "\n",
    "- Choropleth Map by Neighborhood\n",
    "→ Allows spatial comparison of intake burden across city districts\n",
    "\n",
    "- Shelter Coverage & Intakes Map \n",
    "→ Shows where intake hotspots align—or don’t—with current 5 km shelter coverage.\n",
    "\n",
    "- Intake → Outcome Flow Sankey \n",
    "→ Summarises how each intake source splits into final outcomes"
   ]
  },
  {
   "cell_type": "markdown",
   "id": "780e5fb2-e114-49de-b769-77c22e1d176c",
   "metadata": {},
   "source": [
    "### 6. Discussion\n",
    "#### What went well?\n",
    "The time series plot clearly visualizes trend and seasonality.The animated heatmap engages viewers while providing intuitive geographic context.The choropleth map makes it easy to spot disparities across neighborhoods.\n",
    "\n",
    "#### What is still missing? What could be improved? Why?\n",
    "We lost about 55% of geocoded addresses, which reduced the spatial accuracy. An interactive dashboard combining filters (e.g., by animal type, intake condition) would offer deeper insights. Labeling and overlays on maps could enhance interpretability for first-time viewers."
   ]
  },
  {
   "cell_type": "markdown",
   "id": "3ab3ec31-4b2b-48db-85c8-1dfac627b977",
   "metadata": {},
   "source": [
    "### 7. Contributions"
   ]
  },
  {
   "cell_type": "code",
   "execution_count": null,
   "id": "8416c418-38ad-49d5-866f-32280146d803",
   "metadata": {},
   "outputs": [],
   "source": []
  }
 ],
 "metadata": {
  "kernelspec": {
   "display_name": "Python [conda env:base] *",
   "language": "python",
   "name": "conda-base-py"
  },
  "language_info": {
   "codemirror_mode": {
    "name": "ipython",
    "version": 3
   },
   "file_extension": ".py",
   "mimetype": "text/x-python",
   "name": "python",
   "nbconvert_exporter": "python",
   "pygments_lexer": "ipython3",
   "version": "3.12.2"
  }
 },
 "nbformat": 4,
 "nbformat_minor": 5
}
