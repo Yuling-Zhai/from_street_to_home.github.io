{
  "cells": [
    {
      "cell_type": "markdown",
      "id": "da32a134-bb82-4363-a395-20253b2a5fae",
      "metadata": {
        "id": "da32a134-bb82-4363-a395-20253b2a5fae"
      },
      "source": [
        "### 1. Motivation\n",
        "#### What is your dataset?\n",
        "We used three datasets related to Austin Animal Center:\n",
        "- Austin_Animal_Center_Intakes_20250419.csv: records of animals entering the shelter, including intake dates and animal types.\n",
        "- Austin_Animal_Center_Outcomes_20250419.csv: outcome records of animals leaving the shelter (e.g., adoption, euthanasia).\n",
        "- shelter_geocoded_locations.csv: a manually geocoded dataset that maps official shelter addresses in Austin to their corresponding latitude and longitude coordinates, based on data from the Austin Animal Center's official shelter list.\n",
        "- neighbour.json: downloaded from https://data.austintexas.gov/.\n",
        "\n",
        "#### Why did you choose this/these particular dataset(s)?\n",
        "The intake dataset offers a rich, time-stamped record of real-world animal shelter operations. With the help of manually geocoded shelter addresses, we were able to conduct meaningful spatial analysis. This multi-angle approach allows for an accessible and engaging visual story.\n",
        "\n",
        "#### What was your goal for the end user's experience?\n",
        "We want users to understand the patterns behind stray animal intake: when animals enter shelters most frequently, and which shelter regions are under more pressure. The visualizations should guide users from temporal overview to regional insights."
      ]
    },
    {
      "cell_type": "markdown",
      "id": "8a85fb19-e337-47da-8844-a09367967daa",
      "metadata": {
        "id": "8a85fb19-e337-47da-8844-a09367967daa"
      },
      "source": [
        "### 2. Basic stats\n",
        "#### Data Cleaning & Preprocessing Steps\n",
        "- Merged intake & outcome tables: According to Animal ID.Keeping duplicates for repeat visits.\n",
        "- Date parsing: Converted intake_datetime to proper datetime format.\n",
        "- Shelter matching: Linked each record to a shelter location based on the shelter_name or address field.\n",
        "- Geolocation: Used shelter_geocoded_locations.csv to attach coordinates to each shelter site.\n",
        "- Neighborhood mapping: Mapped coordinates to official Austin neighborhood polygons using spatial joins.\n",
        "- Time aggregation: Grouped intake counts by month and by shelter region.\n",
        "- Outliers: Removed records with missing animal type or unmatchable shelter data.\n",
        "\n",
        "#### Dataset Statistics\n",
        "- Intakes dataset rows: 126,234\n",
        "- Outcomes dataset rows: 124,513\n",
        "- Unique animal types: 5 (Dogs, Cats, Birds, Others, Small Mammals)\n",
        "- Mapped shelter coordinates: Successfully matched to all listed shelters\n",
        "- Time span: October 2013 to April 2025\n",
        "- Number of mapped shelters: 12"
      ]
    },
    {
      "cell_type": "markdown",
      "id": "3b4751e9-260b-4445-8819-f05f0da26df6",
      "metadata": {
        "id": "3b4751e9-260b-4445-8819-f05f0da26df6"
      },
      "source": [
        "### 3. Data Analysis"
      ]
    },
    {
      "cell_type": "markdown",
      "source": [
        "- We used Folium’s HeatMapWithTime to animate changes in geographic hotspots across Austin over time. Each frame represents a specific month from October 2013 to April 2025."
      ],
      "metadata": {
        "id": "LVc-URy3OHYT"
      },
      "id": "LVc-URy3OHYT"
    },
    {
      "cell_type": "code",
      "source": [
        "import pandas as pd\n",
        "import folium\n",
        "from folium.plugins import HeatMapWithTime, Fullscreen, MeasureControl\n",
        "import branca.colormap as cm\n",
        "\n",
        "# === Step 1: Load data ===\n",
        "df = pd.read_csv(\"merged_data.csv\", parse_dates=[\"Intake Datetime\"])\n",
        "df = df.dropna(subset=[\"Latitude\", \"Longitude\", \"Intake Datetime\"]).copy()\n",
        "df = df[(df[\"Latitude\"].between(-90, 90)) & (df[\"Longitude\"].between(-180, 180))]\n",
        "df[\"Month_Formatted\"] = df[\"Intake Datetime\"].dt.strftime(\"%Y-%m\")\n",
        "\n",
        "# === Step 2: Add weight ===\n",
        "def add_weight(points_list):\n",
        "    from collections import defaultdict\n",
        "    point_counts = defaultdict(int)\n",
        "    weighted = []\n",
        "    for p in points_list:\n",
        "        rounded = (round(p[0], 3), round(p[1], 3))\n",
        "        point_counts[rounded] += 1\n",
        "    for p in points_list:\n",
        "        rounded = (round(p[0], 3), round(p[1], 3))\n",
        "        weighted.append([p[0], p[1], min(point_counts[rounded] * 0.2, 1)])\n",
        "    return weighted\n",
        "\n",
        "time_index = sorted(df[\"Month_Formatted\"].unique())\n",
        "heat_data = [add_weight(df[df[\"Month_Formatted\"] == m][[\"Latitude\", \"Longitude\"]].values.tolist()) for m in time_index]\n",
        "\n",
        "# === Step 3: Setup map ===\n",
        "center = [df[\"Latitude\"].median(), df[\"Longitude\"].median()]\n",
        "m = folium.Map(location=center, zoom_start=12, tiles=\"CartoDB Positron\", control_scale=True)\n",
        "MeasureControl(position=\"bottomright\").add_to(m)\n",
        "\n",
        "# === Step 4: Color gradient ===\n",
        "colors = [\"#c4e9f2\", \"#7fbbdd\", \"#f58b05\", \"#ffc22f\"]\n",
        "colormap = cm.LinearColormap(colors=colors, index=[0, 0.3, 0.6, 1], vmin=0, vmax=1, caption=\"Hotspot Density\")\n",
        "colormap.add_to(m)\n",
        "\n",
        "# === Step 5: Heatmap with time ===\n",
        "HeatMapWithTime(\n",
        "    data=heat_data,\n",
        "    index=time_index,\n",
        "    radius=15,\n",
        "    min_opacity=0.3,\n",
        "    max_opacity=0.9,\n",
        "    gradient={i / 3: colors[i] for i in range(4)},\n",
        "    use_local_extrema=True,\n",
        "    auto_play=True,\n",
        "    display_index=True\n",
        ").add_to(m)\n",
        "\n",
        "# === Step 6: Title box ===\n",
        "title_html = f\"\"\"\n",
        "<div id=\"title-card\" style=\"\n",
        "    position: absolute;\n",
        "    top: 20px;\n",
        "    left: 20px;\n",
        "    z-index: 9999;\n",
        "    background-color: rgba(255,255,255,0.85);\n",
        "    padding: 10px 15px;\n",
        "    border-radius: 8px;\n",
        "    font-family: sans-serif;\n",
        "    box-shadow: 0 0 8px rgba(0,0,0,0.1);\n",
        "    max-width: 300px;\n",
        "    font-size: 13px;\n",
        "\">\n",
        "    <h4 style=\"margin: 0; font-size: 1em;\"><b>Dynamic Hotspot Map of Animal Intakes</b></h4>\n",
        "    <p style=\"margin: 2px 0;\">Monthly distribution of animal intake hotspots</p>\n",
        "    <p style=\"margin: 0;\">Data range: {df[\"Intake Datetime\"].min().strftime('%Y-%m')} to {df[\"Intake Datetime\"].max().strftime('%Y-%m')}</p>\n",
        "</div>\n",
        "\"\"\"\n",
        "m.get_root().html.add_child(folium.Element(title_html))\n",
        "\n",
        "# === Step 7: Final JS fix using MutationObserver ===\n",
        "custom_js = \"\"\"\n",
        "<script>\n",
        "document.addEventListener(\"DOMContentLoaded\", function () {\n",
        "    const map = document.querySelector('.folium-map');\n",
        "    if (map) map.style.position = 'relative';\n",
        "\n",
        "    const observer = new MutationObserver(() => {\n",
        "        const ctrl = document.querySelector('.leaflet-control-timecontrol');\n",
        "        const target = document.querySelector('.leaflet-bottom.leaflet-left');\n",
        "\n",
        "        if (ctrl && target && ctrl.querySelectorAll(\"button\").length > 0) {\n",
        "            // Remove all buttons except play/pause (index 1)\n",
        "            const buttons = ctrl.querySelectorAll(\"button\");\n",
        "            buttons.forEach((btn, i) => {\n",
        "                if (i !== 1) btn.remove();\n",
        "            });\n",
        "\n",
        "            // Remove fps control row\n",
        "            const rows = ctrl.querySelectorAll(\"tr\");\n",
        "            if (rows.length > 1) rows[1].remove();\n",
        "\n",
        "            // Move and style control\n",
        "            target.appendChild(ctrl);\n",
        "            Object.assign(ctrl.style, {\n",
        "                position: 'absolute',\n",
        "                left: '0',\n",
        "                bottom: '0',\n",
        "                margin: '20px',\n",
        "                zIndex: '10000',\n",
        "                background: 'white',\n",
        "                borderRadius: '8px',\n",
        "                padding: '8px',\n",
        "                boxShadow: '0 0 6px rgba(0,0,0,0.2)',\n",
        "                display: 'inline-block',\n",
        "                maxWidth: '600px',\n",
        "                overflow: 'hidden',\n",
        "                transform: 'translateX(0%)'\n",
        "            });\n",
        "\n",
        "            observer.disconnect();\n",
        "        }\n",
        "    });\n",
        "\n",
        "    observer.observe(document.body, { childList: true, subtree: true });\n",
        "});\n",
        "</script>\n",
        "\"\"\"\n",
        "m.get_root().html.add_child(folium.Element(custom_js))\n",
        "\n",
        "# === Step 8: Fullscreen button ===\n",
        "Fullscreen(position=\"topright\").add_to(m)\n",
        "\n",
        "# === Step 9: Save output ===\n",
        "m.save(\"heatmap_final_clean_controls.html\")\n",
        "print(\"✅ Saved: heatmap_final_clean_controls.html\")"
      ],
      "metadata": {
        "id": "36XTPLsZOMGK"
      },
      "id": "36XTPLsZOMGK",
      "execution_count": null,
      "outputs": []
    },
    {
      "cell_type": "markdown",
      "source": [
        "Using a GeoJSON file of Austin neighborhoods, we mapped total intake counts per region and applied a yellow-to-blue gradient using Folium and D3 for visual contrast."
      ],
      "metadata": {
        "id": "-8JjHdjOOoDt"
      },
      "id": "-8JjHdjOOoDt"
    },
    {
      "cell_type": "markdown",
      "id": "975f7071-f600-47a1-a4af-27239609719d",
      "metadata": {
        "id": "975f7071-f600-47a1-a4af-27239609719d"
      },
      "source": [
        "### 4. Genre\n",
        "#### Which genre of data story did you use?\n",
        "We used a Martini Glass narrative structure: The stem is a focused, linear presentation (time series → heatmap animation),followed by an open exploration body (static choropleth map for spatial analysis and comparison).\n",
        "\n",
        "#### Visual Narrative tools used\n",
        "- Graphical highlighting (e.g., saturation of heatmap points over time)\n",
        "- Progressive reveal (the animated heatmap adds time dimension interactively)\n",
        "- Visual grouping (e.g., color mapping in the choropleth for comparing regions)\n",
        "\n",
        "#### Narrative Structure tools used\n",
        "- Author-driven sequence at the start (clear framing of the problem through time trend)\n",
        "- Reader-driven interaction in choropleth map and animation slider\n",
        "- Multi-messaging via annotation blocks and map legends"
      ]
    },
    {
      "cell_type": "markdown",
      "id": "b0bd7ee9-6b16-4959-b980-e9f821ec6015",
      "metadata": {
        "id": "b0bd7ee9-6b16-4959-b980-e9f821ec6015"
      },
      "source": [
        "###  5. Visualizations\n",
        "We created three key visualizations to support our story:\n",
        "- Monthly Intake Time Series\n",
        "→ Highlights long-term trends and seasonal fluctuations\n",
        "- Animated Heatmap of Found Locations\n",
        "→ Shows how animal sightings spread and shift over time\n",
        "\n",
        "- Choropleth Map by Neighborhood\n",
        "→ Allows spatial comparison of intake burden across city districts\n",
        "\n",
        "- Shelter Coverage & Intakes Map\n",
        "→ Shows where intake hotspots align—or don’t—with current 5 km shelter coverage.\n",
        "\n",
        "- Intake → Outcome Flow Sankey\n",
        "→ Summarises how each intake source splits into final outcomes"
      ]
    },
    {
      "cell_type": "markdown",
      "id": "780e5fb2-e114-49de-b769-77c22e1d176c",
      "metadata": {
        "id": "780e5fb2-e114-49de-b769-77c22e1d176c"
      },
      "source": [
        "### 6. Discussion\n",
        "#### What went well?\n",
        "The time series plot clearly visualizes trend and seasonality.The animated heatmap engages viewers while providing intuitive geographic context.The choropleth map makes it easy to spot disparities across neighborhoods.\n",
        "\n",
        "#### What is still missing? What could be improved? Why?\n",
        "We lost about 55% of geocoded addresses, which reduced the spatial accuracy. An interactive dashboard combining filters (e.g., by animal type, intake condition) would offer deeper insights. Labeling and overlays on maps could enhance interpretability for first-time viewers."
      ]
    },
    {
      "cell_type": "markdown",
      "id": "3ab3ec31-4b2b-48db-85c8-1dfac627b977",
      "metadata": {
        "id": "3ab3ec31-4b2b-48db-85c8-1dfac627b977"
      },
      "source": [
        "### 7. Contributions"
      ]
    },
    {
      "cell_type": "code",
      "execution_count": null,
      "id": "8416c418-38ad-49d5-866f-32280146d803",
      "metadata": {
        "id": "8416c418-38ad-49d5-866f-32280146d803"
      },
      "outputs": [],
      "source": []
    }
  ],
  "metadata": {
    "kernelspec": {
      "display_name": "Python [conda env:base] *",
      "language": "python",
      "name": "conda-base-py"
    },
    "language_info": {
      "codemirror_mode": {
        "name": "ipython",
        "version": 3
      },
      "file_extension": ".py",
      "mimetype": "text/x-python",
      "name": "python",
      "nbconvert_exporter": "python",
      "pygments_lexer": "ipython3",
      "version": "3.12.2"
    },
    "colab": {
      "provenance": [],
      "toc_visible": true
    }
  },
  "nbformat": 4,
  "nbformat_minor": 5
}